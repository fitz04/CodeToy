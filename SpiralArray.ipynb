{
 "cells": [
  {
   "cell_type": "markdown",
   "metadata": {},
   "source": [
    "문제는 다음과 같다\n",
    "\n",
    "```\n",
    " 6 6\n",
    "\n",
    "  0   1   2   3   4   5\n",
    " 19  20  21  22  23   6\n",
    " 18  31  32  33  24   7\n",
    " 17  30  35  34  25   8\n",
    " 16  29  28  27  26   9\n",
    " 15  14  13  12  11  10\n",
    "```\n",
    "\n",
    "위처럼 6 6이라는 입력을 주면 6 X 6 매트릭스에 나선형 회전을 한 값을 출력해야 한다."
   ]
  },
  {
   "cell_type": "code",
   "execution_count": 9,
   "metadata": {
    "collapsed": false
   },
   "outputs": [
    {
     "name": "stdout",
     "output_type": "stream",
     "text": [
      "  0  1  2  3  4  5\n",
      " 19 20 21 22 23  6\n",
      " 18 31 32 33 24  7\n",
      " 17 30 35 34 25  8\n",
      " 16 29 28 27 26  9\n",
      " 15 14 13 12 11 10\n"
     ]
    }
   ],
   "source": [
    "X,Y = map(int,[6, 6])\n",
    "lis = [[-1 for i in range(Y)] for j in range(X)]\n",
    "x,y = 0,0\n",
    "dx,dy = 0,1\n",
    "count = 0\n",
    "while lis[x][y] == -1:\n",
    "    lis[x][y] = count\n",
    "    count+=1\n",
    "    x,y = x+dx,y+dy\n",
    "    if x in [-1,X] or y in [-1,Y] or lis[x][y] != -1:\n",
    "        x,y = x-dx,y-dy\n",
    "        dx,dy = dy,-dx\n",
    "        x,y = x+dx,y+dy\n",
    "for L in lis:\n",
    "    for val in L:\n",
    "        print ('%3d'%val, end='')\n",
    "    print()"
   ]
  }
 ],
 "metadata": {
  "kernelspec": {
   "display_name": "Python 3",
   "language": "python",
   "name": "python3"
  },
  "language_info": {
   "codemirror_mode": {
    "name": "ipython",
    "version": 3
   },
   "file_extension": ".py",
   "mimetype": "text/x-python",
   "name": "python",
   "nbconvert_exporter": "python",
   "pygments_lexer": "ipython3",
   "version": "3.4.3"
  }
 },
 "nbformat": 4,
 "nbformat_minor": 0
}
