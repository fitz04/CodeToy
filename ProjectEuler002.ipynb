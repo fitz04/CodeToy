{
 "cells": [
  {
   "cell_type": "code",
   "execution_count": 11,
   "metadata": {
    "collapsed": false
   },
   "outputs": [
    {
     "name": "stdout",
     "output_type": "stream",
     "text": [
      "4613732\n",
      "4613732\n"
     ]
    }
   ],
   "source": [
    "# 피보나치 수열에서 4백만 이하이면서 짝수인 항의 합\n",
    "\n",
    "# solv 1\n",
    "a, b = 0, 1\n",
    "res = 0\n",
    "while b < 4000000:\n",
    "#     print(b)\n",
    "    a, b = b, a+b\n",
    "    if b%2 == 0 : res +=b\n",
    "print(res)\n",
    "    \n",
    "# solv 2\n",
    "def fib(max):\n",
    "    mem = (0,1)\n",
    "    while mem[1] < max:\n",
    "        mem = (mem[1], sum(mem))\n",
    "        yield mem[0]\n",
    "\n",
    "print( sum([x for x in fib(4000000) if x%2 == 0]))\n",
    "    "
   ]
  }
 ],
 "metadata": {
  "kernelspec": {
   "display_name": "Python 3",
   "language": "python",
   "name": "python3"
  },
  "language_info": {
   "codemirror_mode": {
    "name": "ipython",
    "version": 3
   },
   "file_extension": ".py",
   "mimetype": "text/x-python",
   "name": "python",
   "nbconvert_exporter": "python",
   "pygments_lexer": "ipython3",
   "version": "3.4.3"
  }
 },
 "nbformat": 4,
 "nbformat_minor": 0
}
