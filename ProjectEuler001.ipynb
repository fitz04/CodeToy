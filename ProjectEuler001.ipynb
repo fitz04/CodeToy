{
 "cells": [
  {
   "cell_type": "code",
   "execution_count": 15,
   "metadata": {
    "collapsed": false
   },
   "outputs": [
    {
     "name": "stdout",
     "output_type": "stream",
     "text": [
      "233168\n",
      "233168\n",
      "233168\n"
     ]
    }
   ],
   "source": [
    "# 1000보다 작은 자연수 중에서 3 또는 5의 배수를 모두 더하면?\n",
    "res = 0\n",
    "for i in range(1000):\n",
    "\tif (i%3 is 0) or (i%5 is 0):\n",
    "\t\tres += i\n",
    "print (res)\n",
    "\n",
    "print(sum([x for x in range(1000) if x % 3 == 0 or x % 5 == 0]))\n",
    "\n",
    "print(sum(filter(lambda x: x%3 == 0 or x%5 == 0, range(1000)) ))"
   ]
  }
 ],
 "metadata": {
  "kernelspec": {
   "display_name": "Python 3",
   "language": "python",
   "name": "python3"
  },
  "language_info": {
   "codemirror_mode": {
    "name": "ipython",
    "version": 3
   },
   "file_extension": ".py",
   "mimetype": "text/x-python",
   "name": "python",
   "nbconvert_exporter": "python",
   "pygments_lexer": "ipython3",
   "version": "3.4.3"
  }
 },
 "nbformat": 4,
 "nbformat_minor": 0
}
